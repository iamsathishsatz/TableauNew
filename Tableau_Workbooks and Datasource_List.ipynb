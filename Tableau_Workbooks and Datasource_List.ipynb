{
 "cells": [
  {
   "cell_type": "code",
   "execution_count": null,
   "metadata": {
    "collapsed": true
   },
   "outputs": [],
   "source": [
    "import getpass\n",
    "import pandas as pd\n",
    "import os\n",
    "import tableauserverclient as TSC"
   ]
  },
  {
   "cell_type": "code",
   "execution_count": null,
   "metadata": {
    "collapsed": true
   },
   "outputs": [],
   "source": [
    "server_URL, Site_name = 'http://ServerURLHere', 'SiteNamehere'\n",
    "tableau_auth = TSC.TableauAuth(getpass.getuser(), getpass.getpass(prompt='Type the password'),Site_name)\n",
    "server = TSC.Server(server_URL)\n",
    "server.auth.sign_in(tableau_auth)"
   ]
  },
  {
   "cell_type": "code",
   "execution_count": null,
   "metadata": {
    "collapsed": true
   },
   "outputs": [],
   "source": [
    "#To get all workbooks use pager instead of get() function and the pagination_item since it allow only 100 items\n",
    "all_workbooks = list(TSC.Pager(server.workbooks))\n",
    "#To get all datasources\n",
    "#if required add pagination_items\n",
    "all_datasources, pagination_item = server.datasources.get()"
   ]
  },
  {
   "cell_type": "code",
   "execution_count": null,
   "metadata": {
    "collapsed": true
   },
   "outputs": [],
   "source": [
    "wb_list = []\n",
    "for workbook in all_workbooks:\n",
    "    server.workbooks.populate_connections(workbook)\n",
    "    for connection in workbook.connections:\n",
    "        wb_list.append([server_URL, Site_name, workbook.project_name,'Workbook', workbook.name, connection.datasource_name, connection.username, connection.connection_type, connection.server_address])\n",
    "workbooklist = pd.DataFrame.from_records(wb_list, columns = ['server_URL', 'Site_name','Project/Folder Name','Type','Name','datasource_name','Datasource_username','Datasource_type','server_address'])\n"
   ]
  },
  {
   "cell_type": "code",
   "execution_count": null,
   "metadata": {
    "collapsed": true
   },
   "outputs": [],
   "source": [
    "ds_list=[]\n",
    "for datasource in all_datasources:\n",
    "    server.datasources.populate_connections(datasource)\n",
    "    for connection in datasource.connections:\n",
    "        ds_list.append([server_URL, Site_name, datasource.project_name,'Data Source',datasource.name, connection.datasource_name,connection.username, connection.connection_type, connection.server_address])\n",
    "datasource_list = pd.DataFrame.from_records(ds_list, columns = ['server_URL','Site_name','Project/Folder Name','Type','Name','datasource_name','Datasource_username','Datasource_type','server_address'])\n",
    "\n",
    "    \n",
    "    \n",
    "    \n",
    "    "
   ]
  },
  {
   "cell_type": "code",
   "execution_count": null,
   "metadata": {
    "collapsed": true
   },
   "outputs": [],
   "source": [
    "final_dataset = pd.concat([workbooklist, datasourcelist], axis = 0)\n",
    "workbooklist.to_csv(Site_name + '_report.csv')\n",
    "final_dataset.to_csv(Sitename+'_final_dataset.csv                                               ')"
   ]
  }
 ],
 "metadata": {
  "kernelspec": {
   "display_name": "Python 2",
   "language": "python",
   "name": "python2"
  },
  "language_info": {
   "codemirror_mode": {
    "name": "ipython",
    "version": 2
   },
   "file_extension": ".py",
   "mimetype": "text/x-python",
   "name": "python",
   "nbconvert_exporter": "python",
   "pygments_lexer": "ipython2",
   "version": "2.7.14"
  }
 },
 "nbformat": 4,
 "nbformat_minor": 2
}
